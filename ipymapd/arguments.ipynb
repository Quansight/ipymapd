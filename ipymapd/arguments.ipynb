{
 "cells": [
  {
   "cell_type": "markdown",
   "metadata": {},
   "source": [
    "# `ipymapd` argparsing"
   ]
  },
  {
   "cell_type": "code",
   "execution_count": 39,
   "metadata": {},
   "outputs": [],
   "source": [
    "    import pytest"
   ]
  },
  {
   "cell_type": "code",
   "execution_count": 5,
   "metadata": {},
   "outputs": [],
   "source": [
    "    from argparse import ArgumentParser\n",
    "    parser = ArgumentParser()\n",
    "    subparser = parser.add_subparsers()\n",
    "    # need to add a file input for the configuration.\n",
    "\n",
    "    connect = subparser.add_parser('connect')\n",
    "    connect.add_argument('name', nargs='?')\n",
    "    connect.add_argument('--user')\n",
    "    connect.add_argument('--password', default=\"HyperInteractive\")\n",
    "    connect.add_argument('--host')\n",
    "    connect.add_argument('--port', type=int)\n",
    "    connect.add_argument('--database')\n",
    "    connect.add_argument('--protocol')\n",
    "    \n",
    "    disconnect = subparser.add_parser(\n",
    "        'disconnect', help=\"Disconnect from the current database,\"\n",
    "    )\n",
    "    disconnect.add_argument('--disconnect', action='store_false')\n",
    "\n",
    "    \n",
    "       \n",
    "    table = subparser.add_parser('table')\n",
    "    table.add_argument('name')\n",
    "    table.add_argument('--interactive', action='store_true')\n",
    "    None"
   ]
  },
  {
   "cell_type": "code",
   "execution_count": 2,
   "metadata": {},
   "outputs": [],
   "source": [
    "    def parse(cmd):\n",
    "        return vars(parser.parse_args(cmd.split()))"
   ]
  },
  {
   "cell_type": "code",
   "execution_count": 42,
   "metadata": {},
   "outputs": [],
   "source": [
    "    def test_nada():\n",
    "        assert not parse(\"\")"
   ]
  },
  {
   "cell_type": "code",
   "execution_count": 43,
   "metadata": {},
   "outputs": [],
   "source": [
    "    def test_connect():\n",
    "        assert parse(\"connect\")['name'] == None\n",
    "        assert parse(\"connect metis\")['name'] == 'metis'\n",
    "        bespoke =  parse(\"\"\"connect --user mapd \\\n",
    "    --password HyperInteractive \\\n",
    "    --host metis.mapd.com \\\n",
    "    --port 443 \\\n",
    "    --database mapd \\\n",
    "    --protocol https \"\"\")\n",
    "        assert bespoke == {'name': None,\n",
    "         'user': 'mapd',\n",
    "         'password': 'HyperInteractive',\n",
    "         'host': 'metis.mapd.com',\n",
    "         'port': 443,\n",
    "         'database': 'mapd',\n",
    "         'protocol': 'https'}\n",
    "\n",
    "        "
   ]
  },
  {
   "cell_type": "code",
   "execution_count": 44,
   "metadata": {},
   "outputs": [],
   "source": [
    "    def test_disconnect():\n",
    "        assert parse('disconnect')['disconnect'] is True"
   ]
  },
  {
   "cell_type": "code",
   "execution_count": 45,
   "metadata": {},
   "outputs": [],
   "source": [
    "    def test_table():\n",
    "        with pytest.raises(SystemExit): \n",
    "            parse(\"table\")\n",
    "        assert parse(\"table metis\") == {'name': 'metis', 'interactive': False}"
   ]
  },
  {
   "cell_type": "code",
   "execution_count": 7,
   "metadata": {},
   "outputs": [
    {
     "name": "stdout",
     "output_type": "stream",
     "text": [
      "[<importnb.replacer.Replacer object at 0x000001F63E421678>] ['C:\\\\Anaconda3\\\\Scripts\\\\ipython', '-m', 'pytest', '--', 'arguments.ipynb']\n",
      "============================= test session starts =============================\n",
      "platform win32 -- Python 3.6.5, pytest-3.5.1, py-1.5.3, pluggy-0.6.0\n",
      "rootdir: C:\\Users\\deathbeds\\ipymapd\\ipymapd, inifile:\n",
      "plugins: testmon-0.9.12, remotedata-0.2.1, openfiles-0.3.0, doctestplus-0.1.3, arraydiff-0.2, hypothesis-3.66.16, importnb-0.4.1\n",
      "collected 4 items\n",
      "\n",
      "arguments.ipynb ....                                                     [100%]\n",
      "\n",
      "========================== 4 passed in 0.13 seconds ===========================\n"
     ]
    }
   ],
   "source": [
    "    if __name__ == '__main__':\n",
    "        !ipython -m pytest -- arguments.ipynb"
   ]
  },
  {
   "cell_type": "code",
   "execution_count": null,
   "metadata": {},
   "outputs": [],
   "source": []
  }
 ],
 "metadata": {
  "kernelspec": {
   "display_name": "Python 3",
   "language": "python",
   "name": "python3"
  },
  "language_info": {
   "codemirror_mode": {
    "name": "ipython",
    "version": 3
   },
   "file_extension": ".py",
   "mimetype": "text/x-python",
   "name": "python",
   "nbconvert_exporter": "python",
   "pygments_lexer": "ipython3",
   "version": "3.6.5"
  }
 },
 "nbformat": 4,
 "nbformat_minor": 2
}
