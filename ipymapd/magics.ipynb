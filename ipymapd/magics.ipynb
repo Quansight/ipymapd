{
 "cells": [
  {
   "cell_type": "markdown",
   "metadata": {},
   "source": [
    "# Magics to use MapD in the notebook."
   ]
  },
  {
   "cell_type": "code",
   "execution_count": 14,
   "metadata": {},
   "outputs": [],
   "source": [
    "from .arguments import parser\n",
    "from .connection import MapDConfig\n",
    "import mapd_renderer\n",
    "import yaml, io\n",
    "import ibis\n",
    "\n"
   ]
  },
  {
   "cell_type": "code",
   "execution_count": 15,
   "metadata": {},
   "outputs": [],
   "source": [
    "    class NoConnectionException(BaseException): ..."
   ]
  },
  {
   "cell_type": "code",
   "execution_count": 18,
   "metadata": {},
   "outputs": [],
   "source": [
    "import importlib_resources"
   ]
  },
  {
   "cell_type": "code",
   "execution_count": 2,
   "metadata": {},
   "outputs": [],
   "source": [
    "from IPython.core.magic import (Magics, magics_class, line_magic, register_line_cell_magic,\n",
    "                                cell_magic, line_cell_magic)\n",
    "\n",
    "@magics_class\n",
    "class MapD(Magics):\n",
    "    def __init__(self, shell):\n",
    "        super().__init__(shell)\n",
    "        self.connections = MapDConfig()\n",
    "        self.connections.read_string(importlib_resources.read_text('ipymapd', 'config.ini'))\n",
    "        self.current = None\n",
    "    \n",
    "    @line_cell_magic\n",
    "    def mapd(self, line, cell=None):\n",
    "        line = vars(parser.parse_args(line.split()))\n",
    "        \n",
    "        if cell and not line:\n",
    "            cell = yaml.load(io.StringIO(cell))\n",
    "            if isinstance(cell, str):\n",
    "                object = self.query\n",
    "            if isinstance(cell, dict):\n",
    "                object = self.view\n",
    "            \n",
    "            return object(cell)\n",
    "        \n",
    "        if line.pop('disconnect', None):\n",
    "            object = self.disconnect\n",
    "\n",
    "        elif 'interactive' in line:\n",
    "            object = self.table\n",
    "            del line['interactive']\n",
    "        else:\n",
    "            object = self.connect            \n",
    "        return object(**line)\n",
    "                \n",
    "        \n",
    "    def config(self, **object): \n",
    "        \"\"\"Add a new database configuration\"\"\"\n",
    "\n",
    "    def connect(self, **object):\n",
    "        self.disconnect()\n",
    "        name = object.pop('name')\n",
    "        self.current = ibis.mapd.connect(**self.connections[name])\n",
    "        print(f\"{self.current} contains the tables: {self.current.list_tables()}\")\n",
    "    \n",
    "    def disconnect(self, **object): \n",
    "        if self.current:\n",
    "            self.current.close()\n",
    "\n",
    "    def table(self, **object): \n",
    "        return \n",
    "    \n",
    "    def query(self, object):\n",
    "        if not self.current: raise NoConnectionException()\n",
    "        return self.current.raw_sql(object, results=True).to_df()\n",
    "    \n",
    "    def view(self, object):\n",
    "        return mapd_renderer.MapDBackendRenderer({\n",
    "            'dbName' if 'database' == _0 else _0 : _1 \n",
    "            for _0, _1 in  self.connections['metis'].items()\n",
    "        }, object)"
   ]
  },
  {
   "cell_type": "markdown",
   "metadata": {},
   "source": [
    "    mapd = ibis.mapd.connect(**MapD(get_ipython()).connections['metis'])\n",
    "\n",
    "    query = mapd.table('tweets_nov_feb')\n",
    "\n",
    "    q = query.projection([\n",
    "        query['goog_x'].name('x'),\n",
    "        query['goog_y'].name('y')\n",
    "    ]).limit(10)"
   ]
  },
  {
   "cell_type": "code",
   "execution_count": 20,
   "metadata": {},
   "outputs": [],
   "source": [
    "    def load_ipython_extension(ip):\n",
    "        ip.register_magics(MapD(get_ipython()))"
   ]
  },
  {
   "cell_type": "markdown",
   "metadata": {},
   "source": [
    "    %mapd connect metis"
   ]
  },
  {
   "cell_type": "markdown",
   "metadata": {},
   "source": [
    "    %%mapd \n",
    "    SELECT goog_x as x, goog_y as y, tweets_nov_feb.rowid FROM tweets_nov_feb limit 10"
   ]
  },
  {
   "cell_type": "markdown",
   "metadata": {},
   "source": [
    "    %%mapd\n",
    "    width: 384\n",
    "    height: 564\n",
    "    config: {ticks: false}\n",
    "    data:\n",
    "      - name: 'tweets'\n",
    "        sql: 'SELECT goog_x as x, goog_y as y, tweets_nov_feb.rowid FROM tweets_nov_feb' \n",
    "    scales:\n",
    "      - name: 'x'\n",
    "        type: 'linear'\n",
    "        domain: [3650484.1235206556, 7413325.514451755]\n",
    "        range: 'width'\n",
    "      - name: 'y'\n",
    "        type: 'linear'\n",
    "        domain: [5778161.9183506705, 10471808.487466192]\n",
    "        range: 'height'\n",
    "    marks:\n",
    "      - type: 'points'\n",
    "        from: {data: 'tweets'}\n",
    "        properties:\n",
    "          x: {scale: 'x', field: 'x'}\n",
    "          y: {scale: 'y', field: 'y'}\n",
    "          fillColor: 'green'\n",
    "          size: {value: 1}"
   ]
  },
  {
   "cell_type": "markdown",
   "metadata": {},
   "source": [
    "    %mapd disconnect"
   ]
  },
  {
   "cell_type": "code",
   "execution_count": null,
   "metadata": {},
   "outputs": [],
   "source": []
  }
 ],
 "metadata": {
  "kernelspec": {
   "display_name": "Python 3",
   "language": "python",
   "name": "python3"
  },
  "language_info": {
   "codemirror_mode": {
    "name": "ipython",
    "version": 3
   },
   "file_extension": ".py",
   "mimetype": "text/x-python",
   "name": "python",
   "nbconvert_exporter": "python",
   "pygments_lexer": "ipython3",
   "version": "3.6.5"
  }
 },
 "nbformat": 4,
 "nbformat_minor": 2
}
