{
 "cells": [
  {
   "cell_type": "markdown",
   "metadata": {},
   "source": [
    "# connection files\n",
    "\n",
    "One of the least interactive steps in using pymapd is creating a connection, but it requires a considerable amount of text.  \n",
    "\n",
    "Placing connections in configuration files could make it easier for folks to connect the mapd database.\n",
    "\n",
    "    pymapd"
   ]
  },
  {
   "cell_type": "code",
   "execution_count": 2,
   "metadata": {},
   "outputs": [],
   "source": [
    "## A Connection Manager"
   ]
  },
  {
   "cell_type": "markdown",
   "metadata": {},
   "source": [
    "* is docker a default?"
   ]
  },
  {
   "cell_type": "code",
   "execution_count": 3,
   "metadata": {},
   "outputs": [
    {
     "name": "stderr",
     "output_type": "stream",
     "text": [
      "c:\\users\\deathbeds\\ibis\\ibis\\sql\\postgres\\compiler.py:223: UserWarning: locale specific date formats (%c, %x, %X) are not yet implemented for Windows\n",
      "  'for %s' % platform.system()\n"
     ]
    }
   ],
   "source": [
    "    import ibis.mapd\n",
    "    import configparser\n",
    "    from collections import UserDict\n",
    "    from pathlib import Path\n",
    "    from pandas import DataFrame\n",
    "    \n",
    "    __all__ = 'MapDConfig',"
   ]
  },
  {
   "cell_type": "markdown",
   "metadata": {},
   "source": [
    "`MapDConfig` establishes an API to ease the creation of a MapD Ibis instances.\n",
    "\n",
    "    >>> manager = MapDConfig('config.ini')\n",
    "    >>> assert manager.list(), \"There is no connection information in the database\"\n",
    "    >>> assert manager._repr_html_().startswith('<table'), \"There is no html representation\"\n",
    "    >>> assert isinstance(manager['metis'], MapdConnectionDict)"
   ]
  },
  {
   "cell_type": "code",
   "execution_count": 4,
   "metadata": {},
   "outputs": [],
   "source": [
    "    class MapDConfig(configparser.ConfigParser):\n",
    "        def __init__(self, *files):\n",
    "            super().__init__(), list(map(self.read, files))\n",
    "                    \n",
    "        def _repr_html_(self):\n",
    "            sections = self.sections()\n",
    "            return DataFrame([\n",
    "                self[object] for object in sections\n",
    "            ], sections).to_html()"
   ]
  },
  {
   "cell_type": "markdown",
   "metadata": {},
   "source": [
    "The dictionary should likely be a namespace instead."
   ]
  },
  {
   "cell_type": "code",
   "execution_count": 5,
   "metadata": {},
   "outputs": [],
   "source": [
    "    class MapdConnectionDict(UserDict):\n",
    "        def connect(self): return ibis.mapd.connect(**self)"
   ]
  },
  {
   "cell_type": "code",
   "execution_count": 6,
   "metadata": {},
   "outputs": [
    {
     "ename": "NameError",
     "evalue": "name 'manager' is not defined",
     "output_type": "error",
     "traceback": [
      "\u001b[1;31m---------------------------------------------------------------------------\u001b[0m",
      "\u001b[1;31mNameError\u001b[0m                                 Traceback (most recent call last)",
      "\u001b[1;32m<ipython-input-6-fd7d5b6668e3>\u001b[0m in \u001b[0;36m<module>\u001b[1;34m()\u001b[0m\n\u001b[0;32m      1\u001b[0m \u001b[1;32mif\u001b[0m \u001b[0m__name__\u001b[0m \u001b[1;33m==\u001b[0m \u001b[1;34m'__main__'\u001b[0m\u001b[1;33m:\u001b[0m\u001b[1;33m\u001b[0m\u001b[0m\n\u001b[1;32m----> 2\u001b[1;33m     \u001b[0mmapd\u001b[0m \u001b[1;33m=\u001b[0m \u001b[0mmanager\u001b[0m\u001b[1;33m[\u001b[0m\u001b[1;34m'metis'\u001b[0m\u001b[1;33m]\u001b[0m\u001b[1;33m.\u001b[0m\u001b[0mconnect\u001b[0m\u001b[1;33m(\u001b[0m\u001b[1;33m)\u001b[0m\u001b[1;33m\u001b[0m\u001b[0m\n\u001b[0m",
      "\u001b[1;31mNameError\u001b[0m: name 'manager' is not defined"
     ]
    }
   ],
   "source": [
    "    if __name__ == '__main__': \n",
    "        mapd = manager['metis'].connect()"
   ]
  },
  {
   "cell_type": "code",
   "execution_count": null,
   "metadata": {},
   "outputs": [],
   "source": []
  }
 ],
 "metadata": {
  "kernelspec": {
   "display_name": "Python 3",
   "language": "python",
   "name": "python3"
  },
  "language_info": {
   "codemirror_mode": {
    "name": "ipython",
    "version": 3
   },
   "file_extension": ".py",
   "mimetype": "text/x-python",
   "name": "python",
   "nbconvert_exporter": "python",
   "pygments_lexer": "ipython3",
   "version": "3.6.5"
  }
 },
 "nbformat": 4,
 "nbformat_minor": 2
}
