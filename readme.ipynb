{
 "cells": [
  {
   "cell_type": "markdown",
   "metadata": {},
   "source": [
    "# Interactive tools for MapD\n",
    "\n",
    "MapD is cool technology.  This tool bundles MapD technologies into a user friendly IPython API."
   ]
  },
  {
   "cell_type": "code",
   "execution_count": 1,
   "metadata": {},
   "outputs": [],
   "source": [
    "%reload_ext ipymapd"
   ]
  },
  {
   "cell_type": "markdown",
   "metadata": {},
   "source": [
    "## Connecting to a database"
   ]
  },
  {
   "cell_type": "markdown",
   "metadata": {},
   "source": [
    "* List known connections"
   ]
  },
  {
   "cell_type": "markdown",
   "metadata": {},
   "source": [
    "Return known MapD database connections using a configuration file."
   ]
  },
  {
   "cell_type": "markdown",
   "metadata": {},
   "source": [
    "    %mapd connect"
   ]
  },
  {
   "cell_type": "markdown",
   "metadata": {},
   "source": [
    "Connect to a database connection."
   ]
  },
  {
   "cell_type": "code",
   "execution_count": 2,
   "metadata": {},
   "outputs": [
    {
     "name": "stdout",
     "output_type": "stream",
     "text": [
      "<ibis.mapd.client.MapDClient object at 0x113068f60> contains the tables: ['flights_donotmodify', 'contributions_donotmodify', 'tweets_nov_feb', 'zipcodes_orig', 'zipcodes', 'demo_vote_clean']\n"
     ]
    }
   ],
   "source": [
    "%mapd connect metis"
   ]
  },
  {
   "cell_type": "markdown",
   "metadata": {},
   "source": [
    "List the tables in the connection.  This could return a sick widget to explore the data."
   ]
  },
  {
   "cell_type": "markdown",
   "metadata": {},
   "source": [
    "    %mapd table metis --interactive"
   ]
  },
  {
   "cell_type": "markdown",
   "metadata": {},
   "source": [
    "Connect to a database using arguments"
   ]
  },
  {
   "cell_type": "markdown",
   "metadata": {},
   "source": [
    "    %mapd connect \\\n",
    "    --user mapd \\\n",
    "    --password HyperInteractive \\\n",
    "    --host metis.mapd.com \\\n",
    "    --port 443 \\\n",
    "    --database mapd \\\n",
    "    --protocol https "
   ]
  },
  {
   "cell_type": "markdown",
   "metadata": {},
   "source": [
    "## Queries\n"
   ]
  },
  {
   "cell_type": "code",
   "execution_count": 3,
   "metadata": {},
   "outputs": [
    {
     "data": {
      "text/html": [
       "<div>\n",
       "<style scoped>\n",
       "    .dataframe tbody tr th:only-of-type {\n",
       "        vertical-align: middle;\n",
       "    }\n",
       "\n",
       "    .dataframe tbody tr th {\n",
       "        vertical-align: top;\n",
       "    }\n",
       "\n",
       "    .dataframe thead th {\n",
       "        text-align: right;\n",
       "    }\n",
       "</style>\n",
       "<table border=\"1\" class=\"dataframe\">\n",
       "  <thead>\n",
       "    <tr style=\"text-align: right;\">\n",
       "      <th></th>\n",
       "      <th>x</th>\n",
       "      <th>y</th>\n",
       "      <th>rowid</th>\n",
       "    </tr>\n",
       "  </thead>\n",
       "  <tbody>\n",
       "    <tr>\n",
       "      <th>0</th>\n",
       "      <td>-13563874.0</td>\n",
       "      <td>4.384050e+06</td>\n",
       "      <td>4448</td>\n",
       "    </tr>\n",
       "    <tr>\n",
       "      <th>1</th>\n",
       "      <td>-4913196.5</td>\n",
       "      <td>-2.574509e+06</td>\n",
       "      <td>10016</td>\n",
       "    </tr>\n",
       "    <tr>\n",
       "      <th>2</th>\n",
       "      <td>-7009535.0</td>\n",
       "      <td>-4.230903e+06</td>\n",
       "      <td>4608</td>\n",
       "    </tr>\n",
       "    <tr>\n",
       "      <th>3</th>\n",
       "      <td>11907241.0</td>\n",
       "      <td>-6.886003e+05</td>\n",
       "      <td>4576</td>\n",
       "    </tr>\n",
       "    <tr>\n",
       "      <th>4</th>\n",
       "      <td>-7630287.0</td>\n",
       "      <td>-3.707356e+06</td>\n",
       "      <td>9408</td>\n",
       "    </tr>\n",
       "    <tr>\n",
       "      <th>5</th>\n",
       "      <td>-8239380.0</td>\n",
       "      <td>4.968139e+06</td>\n",
       "      <td>9888</td>\n",
       "    </tr>\n",
       "    <tr>\n",
       "      <th>6</th>\n",
       "      <td>-5436762.0</td>\n",
       "      <td>-3.040998e+06</td>\n",
       "      <td>4416</td>\n",
       "    </tr>\n",
       "    <tr>\n",
       "      <th>7</th>\n",
       "      <td>13476805.0</td>\n",
       "      <td>1.632640e+06</td>\n",
       "      <td>4960</td>\n",
       "    </tr>\n",
       "    <tr>\n",
       "      <th>8</th>\n",
       "      <td>-8241296.5</td>\n",
       "      <td>4.973656e+06</td>\n",
       "      <td>4449</td>\n",
       "    </tr>\n",
       "    <tr>\n",
       "      <th>9</th>\n",
       "      <td>-7277123.5</td>\n",
       "      <td>-3.884417e+06</td>\n",
       "      <td>9984</td>\n",
       "    </tr>\n",
       "  </tbody>\n",
       "</table>\n",
       "</div>"
      ],
      "text/plain": [
       "            x             y  rowid\n",
       "0 -13563874.0  4.384050e+06   4448\n",
       "1  -4913196.5 -2.574509e+06  10016\n",
       "2  -7009535.0 -4.230903e+06   4608\n",
       "3  11907241.0 -6.886003e+05   4576\n",
       "4  -7630287.0 -3.707356e+06   9408\n",
       "5  -8239380.0  4.968139e+06   9888\n",
       "6  -5436762.0 -3.040998e+06   4416\n",
       "7  13476805.0  1.632640e+06   4960\n",
       "8  -8241296.5  4.973656e+06   4449\n",
       "9  -7277123.5 -3.884417e+06   9984"
      ]
     },
     "execution_count": 3,
     "metadata": {},
     "output_type": "execute_result"
    }
   ],
   "source": [
    "%%mapd \n",
    "SELECT goog_x as x, goog_y as y, tweets_nov_feb.rowid FROM tweets_nov_feb limit 10"
   ]
  },
  {
   "cell_type": "markdown",
   "metadata": {},
   "source": [
    "## Visualization\n",
    "\n",
    "The `mapd` magic may accept yaml in the body.  When `yaml` is used we return a visualization."
   ]
  },
  {
   "cell_type": "markdown",
   "metadata": {},
   "source": [
    "%%mapd\n",
    "width: 384\n",
    "height: 564\n",
    "config: {ticks: false}\n",
    "data:\n",
    "  - name: 'tweets'\n",
    "    sql: 'SELECT goog_x as x, goog_y as y, tweets_nov_feb.rowid FROM tweets_nov_feb' \n",
    "scales:\n",
    "  - name: 'x'\n",
    "    type: 'linear'\n",
    "    domain: [3650484.1235206556, 7413325.514451755]\n",
    "    range: 'width'\n",
    "  - name: 'y'\n",
    "    type: 'linear'\n",
    "    domain: [5778161.9183506705, 10471808.487466192]\n",
    "    range: 'height'\n",
    "marks:\n",
    "  - type: 'points'\n",
    "    from: {data: 'tweets'}\n",
    "    properties:\n",
    "      x: {scale: 'x', field: 'x'}\n",
    "      y: {scale: 'y', field: 'y'}\n",
    "      fillColor: 'green'\n",
    "      size: {value: 1}"
   ]
  },
  {
   "cell_type": "markdown",
   "metadata": {},
   "source": [
    "Disconnect the last database that was created"
   ]
  },
  {
   "cell_type": "code",
   "execution_count": 11,
   "metadata": {},
   "outputs": [],
   "source": [
    "%mapd disconnect "
   ]
  },
  {
   "cell_type": "markdown",
   "metadata": {},
   "source": [
    "## Completion\n",
    "\n",
    "* Queries have completion\n",
    "* The line magic has completion"
   ]
  },
  {
   "cell_type": "markdown",
   "metadata": {},
   "source": [
    "## Alternatives\n",
    "\n",
    "* ibis.mapd"
   ]
  },
  {
   "cell_type": "markdown",
   "metadata": {},
   "source": [
    "## Assumptions\n",
    "\n",
    "* A user will experiment with a query before visualizing it.\n",
    "* Typing out the connection information in _unfun_"
   ]
  },
  {
   "cell_type": "code",
   "execution_count": 12,
   "metadata": {},
   "outputs": [
    {
     "name": "stdout",
     "output_type": "stream",
     "text": [
      "[NbConvertApp] Converting notebook readme.ipynb to markdown\n",
      "[NbConvertApp] Writing 3722 bytes to readme.md\n",
      "[NbConvertApp] Converting notebook ipymapd/arguments.ipynb to python\n",
      "[NbConvertApp] Writing 1843 bytes to ipymapd/arguments.py\n",
      "[NbConvertApp] Converting notebook ipymapd/connection.ipynb to python\n",
      "[NbConvertApp] Writing 1487 bytes to ipymapd/connection.py\n",
      "[NbConvertApp] Converting notebook ipymapd/isql.ipynb to python\n",
      "[NbConvertApp] Writing 799 bytes to ipymapd/isql.py\n",
      "[NbConvertApp] Converting notebook ipymapd/magics.ipynb to python\n",
      "[NbConvertApp] Writing 3461 bytes to ipymapd/magics.py\n"
     ]
    }
   ],
   "source": [
    "if __name__ == '__main__':\n",
    "    !jupyter nbconvert --to markdown readme.ipynb\n",
    "    !jupyter nbconvert --to python ipymapd/*.ipynb"
   ]
  },
  {
   "cell_type": "code",
   "execution_count": null,
   "metadata": {},
   "outputs": [],
   "source": []
  }
 ],
 "metadata": {
  "kernelspec": {
   "display_name": "p6",
   "language": "python",
   "name": "other-env"
  },
  "language_info": {
   "codemirror_mode": {
    "name": "ipython",
    "version": 3
   },
   "file_extension": ".py",
   "mimetype": "text/x-python",
   "name": "python",
   "nbconvert_exporter": "python",
   "pygments_lexer": "ipython3",
   "version": "3.6.3"
  }
 },
 "nbformat": 4,
 "nbformat_minor": 2
}
