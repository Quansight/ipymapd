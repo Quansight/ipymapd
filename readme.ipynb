{
 "cells": [
  {
   "cell_type": "markdown",
   "metadata": {},
   "source": [
    "# Interactive tools for MapD\n",
    "\n",
    "MapD is cool technology.  This tool bundles MapD technologies into a user friendly IPython API."
   ]
  },
  {
   "cell_type": "code",
   "execution_count": 1,
   "metadata": {},
   "outputs": [
    {
     "name": "stderr",
     "output_type": "stream",
     "text": [
      "c:\\users\\deathbeds\\ibis\\ibis\\sql\\postgres\\compiler.py:223: UserWarning: locale specific date formats (%c, %x, %X) are not yet implemented for Windows\n",
      "  'for %s' % platform.system()\n"
     ]
    }
   ],
   "source": [
    "    %reload_ext ipymapd"
   ]
  },
  {
   "cell_type": "markdown",
   "metadata": {},
   "source": [
    "## Connecting to a database"
   ]
  },
  {
   "cell_type": "markdown",
   "metadata": {},
   "source": [
    "* List known connections"
   ]
  },
  {
   "cell_type": "markdown",
   "metadata": {},
   "source": [
    "Return known MapD database connections using a configuration file."
   ]
  },
  {
   "cell_type": "markdown",
   "metadata": {},
   "source": [
    "    %mapd connect"
   ]
  },
  {
   "cell_type": "markdown",
   "metadata": {},
   "source": [
    "Connect to a database connection."
   ]
  },
  {
   "cell_type": "code",
   "execution_count": 8,
   "metadata": {},
   "outputs": [
    {
     "name": "stdout",
     "output_type": "stream",
     "text": [
      "<ibis.mapd.client.MapDClient object at 0x00000236D74E1940> contains the tables: ['flights_donotmodify', 'contributions_donotmodify', 'tweets_nov_feb', 'zipcodes_orig', 'zipcodes', 'demo_vote_clean']\n"
     ]
    }
   ],
   "source": [
    "    %mapd connect metis"
   ]
  },
  {
   "cell_type": "markdown",
   "metadata": {},
   "source": [
    "List the tables in the connection.  This could return a sick widget to explore the data."
   ]
  },
  {
   "cell_type": "markdown",
   "metadata": {},
   "source": [
    "    %mapd table metis --interactive"
   ]
  },
  {
   "cell_type": "markdown",
   "metadata": {},
   "source": [
    "Connect to a database using arguments"
   ]
  },
  {
   "cell_type": "markdown",
   "metadata": {},
   "source": [
    "    %mapd connect \\\n",
    "    --user mapd \\\n",
    "    --password HyperInteractive \\\n",
    "    --host metis.mapd.com \\\n",
    "    --port 443 \\\n",
    "    --database mapd \\\n",
    "    --protocol https "
   ]
  },
  {
   "cell_type": "markdown",
   "metadata": {},
   "source": [
    "## Queries\n"
   ]
  },
  {
   "cell_type": "code",
   "execution_count": 9,
   "metadata": {},
   "outputs": [
    {
     "data": {
      "text/html": [
       "<div>\n",
       "<style scoped>\n",
       "    .dataframe tbody tr th:only-of-type {\n",
       "        vertical-align: middle;\n",
       "    }\n",
       "\n",
       "    .dataframe tbody tr th {\n",
       "        vertical-align: top;\n",
       "    }\n",
       "\n",
       "    .dataframe thead th {\n",
       "        text-align: right;\n",
       "    }\n",
       "</style>\n",
       "<table border=\"1\" class=\"dataframe\">\n",
       "  <thead>\n",
       "    <tr style=\"text-align: right;\">\n",
       "      <th></th>\n",
       "      <th>x</th>\n",
       "      <th>y</th>\n",
       "      <th>rowid</th>\n",
       "    </tr>\n",
       "  </thead>\n",
       "  <tbody>\n",
       "    <tr>\n",
       "      <th>0</th>\n",
       "      <td>-6.494699e+06</td>\n",
       "      <td>-4122946.500</td>\n",
       "      <td>11232</td>\n",
       "    </tr>\n",
       "    <tr>\n",
       "      <th>1</th>\n",
       "      <td>-4.279343e+05</td>\n",
       "      <td>4904413.000</td>\n",
       "      <td>11233</td>\n",
       "    </tr>\n",
       "    <tr>\n",
       "      <th>2</th>\n",
       "      <td>-9.807124e+06</td>\n",
       "      <td>5091781.500</td>\n",
       "      <td>11234</td>\n",
       "    </tr>\n",
       "    <tr>\n",
       "      <th>3</th>\n",
       "      <td>-1.316743e+07</td>\n",
       "      <td>4024572.500</td>\n",
       "      <td>11235</td>\n",
       "    </tr>\n",
       "    <tr>\n",
       "      <th>4</th>\n",
       "      <td>-5.571405e+06</td>\n",
       "      <td>-3475819.500</td>\n",
       "      <td>11248</td>\n",
       "    </tr>\n",
       "    <tr>\n",
       "      <th>5</th>\n",
       "      <td>-4.337398e+06</td>\n",
       "      <td>-1370884.875</td>\n",
       "      <td>11249</td>\n",
       "    </tr>\n",
       "    <tr>\n",
       "      <th>6</th>\n",
       "      <td>4.758664e+06</td>\n",
       "      <td>2412860.000</td>\n",
       "      <td>11250</td>\n",
       "    </tr>\n",
       "    <tr>\n",
       "      <th>7</th>\n",
       "      <td>-1.024692e+07</td>\n",
       "      <td>1706442.000</td>\n",
       "      <td>11251</td>\n",
       "    </tr>\n",
       "    <tr>\n",
       "      <th>8</th>\n",
       "      <td>-1.080943e+07</td>\n",
       "      <td>3844545.750</td>\n",
       "      <td>5216</td>\n",
       "    </tr>\n",
       "    <tr>\n",
       "      <th>9</th>\n",
       "      <td>-6.514333e+06</td>\n",
       "      <td>-4092641.750</td>\n",
       "      <td>11236</td>\n",
       "    </tr>\n",
       "  </tbody>\n",
       "</table>\n",
       "</div>"
      ],
      "text/plain": [
       "              x            y  rowid\n",
       "0 -6.494699e+06 -4122946.500  11232\n",
       "1 -4.279343e+05  4904413.000  11233\n",
       "2 -9.807124e+06  5091781.500  11234\n",
       "3 -1.316743e+07  4024572.500  11235\n",
       "4 -5.571405e+06 -3475819.500  11248\n",
       "5 -4.337398e+06 -1370884.875  11249\n",
       "6  4.758664e+06  2412860.000  11250\n",
       "7 -1.024692e+07  1706442.000  11251\n",
       "8 -1.080943e+07  3844545.750   5216\n",
       "9 -6.514333e+06 -4092641.750  11236"
      ]
     },
     "execution_count": 9,
     "metadata": {},
     "output_type": "execute_result"
    }
   ],
   "source": [
    "    %%mapd \n",
    "    SELECT goog_x as x, goog_y as y, tweets_nov_feb.rowid FROM tweets_nov_feb limit 10"
   ]
  },
  {
   "cell_type": "markdown",
   "metadata": {},
   "source": [
    "## Visualization\n",
    "\n",
    "The `mapd` magic may accept yaml in the body.  When `yaml` is used we return a visualization."
   ]
  },
  {
   "cell_type": "code",
   "execution_count": 10,
   "metadata": {},
   "outputs": [
    {
     "data": {
      "application/vnd.mapd.vega+json": {
       "connection": {
        "dbname": "mapd",
        "host": "metis.mapd.com",
        "password": "HyperInteractive",
        "port": "443",
        "protocol": "https",
        "user": "mapd"
       },
       "vega": {
        "config": {
         "ticks": false
        },
        "data": [
         {
          "name": "tweets",
          "sql": "SELECT goog_x as x, goog_y as y, tweets_nov_feb.rowid FROM tweets_nov_feb"
         }
        ],
        "height": 564,
        "marks": [
         {
          "from": {
           "data": "tweets"
          },
          "properties": {
           "fillColor": "green",
           "size": {
            "value": 1
           },
           "x": {
            "field": "x",
            "scale": "x"
           },
           "y": {
            "field": "y",
            "scale": "y"
           }
          },
          "type": "points"
         }
        ],
        "scales": [
         {
          "domain": [
           3650484.1235206556,
           7413325.514451755
          ],
          "name": "x",
          "range": "width",
          "type": "linear"
         },
         {
          "domain": [
           5778161.9183506705,
           10471808.487466192
          ],
          "name": "y",
          "range": "height",
          "type": "linear"
         }
        ],
        "width": 384
       }
      },
      "text/plain": [
       "<mapd_renderer.MapDBackendRenderer at 0x236d6129278>"
      ]
     },
     "execution_count": 10,
     "metadata": {},
     "output_type": "execute_result"
    }
   ],
   "source": [
    "    %%mapd\n",
    "    width: 384\n",
    "    height: 564\n",
    "    config: {ticks: false}\n",
    "    data:\n",
    "      - name: 'tweets'\n",
    "        sql: 'SELECT goog_x as x, goog_y as y, tweets_nov_feb.rowid FROM tweets_nov_feb' \n",
    "    scales:\n",
    "      - name: 'x'\n",
    "        type: 'linear'\n",
    "        domain: [3650484.1235206556, 7413325.514451755]\n",
    "        range: 'width'\n",
    "      - name: 'y'\n",
    "        type: 'linear'\n",
    "        domain: [5778161.9183506705, 10471808.487466192]\n",
    "        range: 'height'\n",
    "    marks:\n",
    "      - type: 'points'\n",
    "        from: {data: 'tweets'}\n",
    "        properties:\n",
    "          x: {scale: 'x', field: 'x'}\n",
    "          y: {scale: 'y', field: 'y'}\n",
    "          fillColor: 'green'\n",
    "          size: {value: 1}"
   ]
  },
  {
   "cell_type": "markdown",
   "metadata": {},
   "source": [
    "Disconnect the last database that was created"
   ]
  },
  {
   "cell_type": "code",
   "execution_count": 12,
   "metadata": {},
   "outputs": [],
   "source": [
    "    %mapd disconnect "
   ]
  },
  {
   "cell_type": "markdown",
   "metadata": {},
   "source": [
    "## Completion\n",
    "\n",
    "* Queries have completion\n",
    "* The line magic has completion"
   ]
  },
  {
   "cell_type": "markdown",
   "metadata": {},
   "source": [
    "## Alternatives\n",
    "\n",
    "* ibis.mapd"
   ]
  },
  {
   "cell_type": "markdown",
   "metadata": {},
   "source": [
    "## Assumptions\n",
    "\n",
    "* A user will experiment with a query before visualizing it.\n",
    "* Typing out the connection information in _unfun_"
   ]
  },
  {
   "cell_type": "code",
   "execution_count": null,
   "metadata": {},
   "outputs": [],
   "source": [
    "if __name__ == '__main__':\n",
    "    !jupyter nbconvert --to markdown readme.ipynb"
   ]
  },
  {
   "cell_type": "code",
   "execution_count": null,
   "metadata": {},
   "outputs": [],
   "source": []
  }
 ],
 "metadata": {
  "kernelspec": {
   "display_name": "Python 3",
   "language": "python",
   "name": "python3"
  },
  "language_info": {
   "codemirror_mode": {
    "name": "ipython",
    "version": 3
   },
   "file_extension": ".py",
   "mimetype": "text/x-python",
   "name": "python",
   "nbconvert_exporter": "python",
   "pygments_lexer": "ipython3",
   "version": "3.6.5"
  }
 },
 "nbformat": 4,
 "nbformat_minor": 2
}
